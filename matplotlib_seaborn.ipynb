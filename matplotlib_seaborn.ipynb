{
 "cells": [
  {
   "cell_type": "markdown",
   "id": "8fae8a97-a97a-4c56-b3b3-18cfcfb6e07f",
   "metadata": {},
   "source": [
    "site: https://niithanoi.edu.vn/su-dung-thu-vien-nhu-matplotlib-va-seaborn-de-tao-bieu-do.html"
   ]
  },
  {
   "cell_type": "code",
   "execution_count": null,
   "id": "9e5d0d09-8987-427a-a831-33b5d49380ae",
   "metadata": {},
   "outputs": [],
   "source": [
    "import matplotlib.pyplot as plt\n",
    "import seaborn as sns"
   ]
  },
  {
   "cell_type": "code",
   "execution_count": null,
   "id": "611128c5-4e6d-46b0-b9a5-2c5ba80b9e35",
   "metadata": {},
   "outputs": [],
   "source": [
    "days = ['Day 1', 'Day 2', 'Day 3', 'Day 4', 'Day 5', 'Day 6', 'Day 7', 'Day 8', 'Day 9', 'Day 10']\n",
    "temperature = [24, 26, 22, 23, 27, 25, 21, 28, 26, 24]\n",
    "rainfall = [10, 5, 0, 7, 15, 2, 0, 20, 3, 12]\n",
    "wind_speed = [15, 12, 20, 18, 10, 22, 25, 8, 16, 14]\n",
    "rainfall = [10, 5, 0, 7, 15, 2, 0, 20, 3, 12]"
   ]
  },
  {
   "cell_type": "raw",
   "id": "ed46b86f-39ae-4185-883c-22bf142ebfa1",
   "metadata": {},
   "source": [
    "biểu đồ đường"
   ]
  },
  {
   "cell_type": "code",
   "execution_count": null,
   "id": "a5a66dda-efb3-4b9d-806b-ecbddc6ab30b",
   "metadata": {},
   "outputs": [],
   "source": [
    "plt.plot(days, temperature)\n",
    "plt.xlabel(\"ngày\")\n",
    "plt.ylabel(\"nhiệt độ\")\n",
    "plt.title(\"thời tiết\")"
   ]
  },
  {
   "cell_type": "code",
   "execution_count": null,
   "id": "581ca780-0b51-4d41-a9d6-3fb8449d9d09",
   "metadata": {},
   "outputs": [],
   "source": [
    "sns.lineplot(x=days, y=temperature, color=\"red\", linestyle=\"--\")"
   ]
  },
  {
   "cell_type": "raw",
   "id": "4d2cb3c8-15fd-45e1-85ec-32862465c9e5",
   "metadata": {},
   "source": [
    "biểu đồ cột"
   ]
  },
  {
   "cell_type": "code",
   "execution_count": null,
   "id": "481bc407-499d-4b90-ac0a-30dfe898e1ac",
   "metadata": {},
   "outputs": [],
   "source": [
    "plt.bar(days, temperature)\n",
    "plt.plot(days, temperature)\n",
    "plt.xlabel(\"ngày\")\n",
    "plt.ylabel(\"nhiệt độ\")\n",
    "plt.title(\"thời tiết\")"
   ]
  },
  {
   "cell_type": "code",
   "execution_count": null,
   "id": "5f96f7cd-bf82-455f-b733-e86090b98b56",
   "metadata": {},
   "outputs": [],
   "source": [
    "sns.countplot(y=temperature, color=\"green\")  # sns.countplot(y=temperature, color=\"green\")\n",
    "# https://www.tutorialspoint.com/seaborn/seaborn_countplot_method.htm"
   ]
  },
  {
   "cell_type": "code",
   "execution_count": null,
   "id": "4e82696d-cdd9-43d9-97ca-86f8dfb17baf",
   "metadata": {},
   "outputs": [],
   "source": [
    "sns.histplot(x=temperature)"
   ]
  },
  {
   "cell_type": "raw",
   "id": "0920a61b-2007-4487-bfd9-871b061f1624",
   "metadata": {},
   "source": [
    "biểu đồ tròn (seaborn không hỗ trợ)"
   ]
  },
  {
   "cell_type": "code",
   "execution_count": null,
   "id": "07584fff-a6a3-4459-8245-300ce83ce99f",
   "metadata": {},
   "outputs": [],
   "source": [
    "plt.pie(temperature, labels=days, colors=[\"red\", \"green\", \"blue\"])"
   ]
  },
  {
   "cell_type": "code",
   "execution_count": null,
   "id": "836662a6-4c9c-4d35-9b76-ee9ee445270e",
   "metadata": {},
   "outputs": [],
   "source": [
    "plt.scatter(days, temperature)"
   ]
  }
 ],
 "metadata": {
  "kernelspec": {
   "display_name": "Python 3 (ipykernel)",
   "language": "python",
   "name": "python3"
  },
  "language_info": {
   "codemirror_mode": {
    "name": "ipython",
    "version": 3
   },
   "file_extension": ".py",
   "mimetype": "text/x-python",
   "name": "python",
   "nbconvert_exporter": "python",
   "pygments_lexer": "ipython3",
   "version": "3.12.3"
  }
 },
 "nbformat": 4,
 "nbformat_minor": 5
}
